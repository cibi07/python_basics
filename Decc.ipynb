{
 "cells": [
  {
   "cell_type": "markdown",
   "metadata": {},
   "source": [
    "# Decorators"
   ]
  },
  {
   "cell_type": "code",
   "execution_count": null,
   "metadata": {},
   "outputs": [],
   "source": [
    "# decrators means mergeing function together!!!(dynamic function)"
   ]
  },
  {
   "cell_type": "code",
   "execution_count": 1,
   "metadata": {},
   "outputs": [],
   "source": [
    "def myfun():\n",
    "    return 1"
   ]
  },
  {
   "cell_type": "code",
   "execution_count": 2,
   "metadata": {},
   "outputs": [
    {
     "data": {
      "text/plain": [
       "1"
      ]
     },
     "execution_count": 2,
     "metadata": {},
     "output_type": "execute_result"
    }
   ],
   "source": [
    "myfun()"
   ]
  },
  {
   "cell_type": "code",
   "execution_count": 3,
   "metadata": {},
   "outputs": [],
   "source": [
    "somefun = myfun"
   ]
  },
  {
   "cell_type": "code",
   "execution_count": 4,
   "metadata": {},
   "outputs": [
    {
     "data": {
      "text/plain": [
       "1"
      ]
     },
     "execution_count": 4,
     "metadata": {},
     "output_type": "execute_result"
    }
   ],
   "source": [
    "somefun()"
   ]
  },
  {
   "cell_type": "code",
   "execution_count": 5,
   "metadata": {},
   "outputs": [],
   "source": [
    "def anotherfun():\n",
    "    print(\"this is another function\")\n",
    "    \n",
    "    def afun():\n",
    "        return\"\\t this is a function\"\n",
    "    \n",
    "    def bfun():\n",
    "        return \"\\t this is b fun\"\n",
    "    \n",
    "    print(afun())\n",
    "    print(bfun())\n",
    "    print(\"now you are back to another function\")"
   ]
  },
  {
   "cell_type": "code",
   "execution_count": 6,
   "metadata": {},
   "outputs": [
    {
     "name": "stdout",
     "output_type": "stream",
     "text": [
      "this is another function\n",
      "\t this is a function\n",
      "\t this is b fun\n",
      "now you are back to another function\n"
     ]
    }
   ],
   "source": [
    "anotherfun()"
   ]
  },
  {
   "cell_type": "markdown",
   "metadata": {},
   "source": [
    "# Returning a function"
   ]
  },
  {
   "cell_type": "code",
   "execution_count": 7,
   "metadata": {},
   "outputs": [],
   "source": [
    "# this is your parent function\n",
    "def anotherfun(name=\"vinay\"):\n",
    "    print(\"this is another function\")\n",
    "#these are your sub functions    \n",
    "    def afun():\n",
    "        return\"\\t this is a function\"\n",
    "    \n",
    "    def bfun():\n",
    "        return \"\\t this is b fun\"\n",
    "    if name == \"vinay\":\n",
    "        return afun\n",
    "    else:\n",
    "        return bfun\n",
    "    \n",
    "    print(\"now you are back to another function\")"
   ]
  },
  {
   "cell_type": "code",
   "execution_count": 8,
   "metadata": {},
   "outputs": [
    {
     "name": "stdout",
     "output_type": "stream",
     "text": [
      "this is another function\n"
     ]
    }
   ],
   "source": [
    "cibi = anotherfun()"
   ]
  },
  {
   "cell_type": "code",
   "execution_count": 9,
   "metadata": {},
   "outputs": [
    {
     "data": {
      "text/plain": [
       "'\\t this is a function'"
      ]
     },
     "execution_count": 9,
     "metadata": {},
     "output_type": "execute_result"
    }
   ],
   "source": [
    "cibi()"
   ]
  },
  {
   "cell_type": "markdown",
   "metadata": {},
   "source": [
    "# passing function as arguments to another function"
   ]
  },
  {
   "cell_type": "code",
   "execution_count": 10,
   "metadata": {},
   "outputs": [],
   "source": [
    "def cibi():\n",
    "    return \"hi this is cibi\"\n",
    "def akash(func):\n",
    "    print(\"iam akash parent function\")\n",
    "    print(func())"
   ]
  },
  {
   "cell_type": "code",
   "execution_count": 11,
   "metadata": {},
   "outputs": [
    {
     "name": "stdout",
     "output_type": "stream",
     "text": [
      "iam akash parent function\n",
      "hi this is cibi\n"
     ]
    }
   ],
   "source": [
    "akash(cibi)"
   ]
  },
  {
   "cell_type": "markdown",
   "metadata": {},
   "source": [
    "# creating  a decorator"
   ]
  },
  {
   "cell_type": "code",
   "execution_count": 12,
   "metadata": {},
   "outputs": [],
   "source": [
    "def new_decorator(func):\n",
    "    \n",
    "    def wrap_fun():\n",
    "        print(\"code would be here before excuting the fun\")\n",
    "        \n",
    "        func()\n",
    "        \n",
    "        print(\"code after the func is excuted\")\n",
    "    return wrap_fun\n",
    "def funs_needs_decorator():\n",
    "    print(\"iam the super important function who needs wrapped from xyz\")\n",
    "    \n"
   ]
  },
  {
   "cell_type": "code",
   "execution_count": 13,
   "metadata": {},
   "outputs": [
    {
     "name": "stdout",
     "output_type": "stream",
     "text": [
      "iam the super important function who needs wrapped from xyz\n"
     ]
    }
   ],
   "source": [
    "funs_needs_decorator()"
   ]
  },
  {
   "cell_type": "code",
   "execution_count": 14,
   "metadata": {},
   "outputs": [],
   "source": [
    "funs_needs_decorator = new_decorator(funs_needs_decorator)"
   ]
  },
  {
   "cell_type": "code",
   "execution_count": 15,
   "metadata": {},
   "outputs": [
    {
     "name": "stdout",
     "output_type": "stream",
     "text": [
      "code would be here before excuting the fun\n",
      "iam the super important function who needs wrapped from xyz\n",
      "code after the func is excuted\n"
     ]
    }
   ],
   "source": [
    "funs_needs_decorator()"
   ]
  },
  {
   "cell_type": "code",
   "execution_count": 16,
   "metadata": {},
   "outputs": [],
   "source": [
    "@new_decorator\n",
    "def funs_needs_decoartor():\n",
    "    print(\"this is super method were u needs to be wrapped\")\n",
    "    "
   ]
  },
  {
   "cell_type": "code",
   "execution_count": 17,
   "metadata": {},
   "outputs": [
    {
     "name": "stdout",
     "output_type": "stream",
     "text": [
      "code would be here before excuting the fun\n",
      "iam the super important function who needs wrapped from xyz\n",
      "code after the func is excuted\n"
     ]
    }
   ],
   "source": [
    "funs_needs_decorator()"
   ]
  },
  {
   "cell_type": "code",
   "execution_count": 29,
   "metadata": {},
   "outputs": [],
   "source": [
    "def new_one(fun):\n",
    "    \n",
    "    def dude():\n",
    "        a = int(input())\n",
    "        b = int(input())\n",
    "        fun(a,b)\n",
    "    return dude\n",
    "@new_one\n",
    "def rahul(a,b):\n",
    "    c = a+b\n",
    "    print(c)\n",
    "@new_one\n",
    "def sai(a,b):\n",
    "    c = a-b\n",
    "    print(c)"
   ]
  },
  {
   "cell_type": "code",
   "execution_count": 32,
   "metadata": {},
   "outputs": [
    {
     "name": "stdout",
     "output_type": "stream",
     "text": [
      "4 \n",
      "5\n",
      "9\n"
     ]
    }
   ],
   "source": [
    "rahul()"
   ]
  },
  {
   "cell_type": "code",
   "execution_count": 34,
   "metadata": {},
   "outputs": [
    {
     "name": "stdout",
     "output_type": "stream",
     "text": [
      "4 \n",
      "5\n",
      "-1\n"
     ]
    }
   ],
   "source": [
    "sai()"
   ]
  }
 ],
 "metadata": {
  "kernelspec": {
   "display_name": "Python 3",
   "language": "python",
   "name": "python3"
  },
  "language_info": {
   "codemirror_mode": {
    "name": "ipython",
    "version": 3
   },
   "file_extension": ".py",
   "mimetype": "text/x-python",
   "name": "python",
   "nbconvert_exporter": "python",
   "pygments_lexer": "ipython3",
   "version": "3.7.1"
  }
 },
 "nbformat": 4,
 "nbformat_minor": 2
}
